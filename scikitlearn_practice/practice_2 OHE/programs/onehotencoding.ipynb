{
 "cells": [
  {
   "cell_type": "markdown",
   "metadata": {},
   "source": [
    "*One Hot Encoding is applicable for Nominal data(no order)* "
   ]
  },
  {
   "cell_type": "markdown",
   "metadata": {},
   "source": [
    "*In OneHotEncoding, if there are n categories (n-1) columns are created and most probably dropping the first one*"
   ]
  },
  {
   "cell_type": "markdown",
   "metadata": {},
   "source": [
    "*we don't use pandas for one hot encoding, instead we use scikitlearn*"
   ]
  },
  {
   "cell_type": "code",
   "execution_count": 5,
   "metadata": {},
   "outputs": [],
   "source": [
    "import pandas as pd"
   ]
  },
  {
   "cell_type": "code",
   "execution_count": 7,
   "metadata": {},
   "outputs": [],
   "source": [
    "data = pd.read_csv('../files/cars.csv')"
   ]
  },
  {
   "cell_type": "code",
   "execution_count": 4,
   "metadata": {},
   "outputs": [],
   "source": [
    "from sklearn.model_selection import train_test_split"
   ]
  },
  {
   "cell_type": "code",
   "execution_count": null,
   "metadata": {},
   "outputs": [],
   "source": [
    "X_train, X_test, y_train, y_test = train_test_split(\n",
    "    data.iloc[:, 0:4],\n",
    "    data.iloc[:, -1],\n",
    "    random_state=15,\n",
    ")"
   ]
  }
 ],
 "metadata": {
  "kernelspec": {
   "display_name": "Python 3",
   "language": "python",
   "name": "python3"
  },
  "language_info": {
   "codemirror_mode": {
    "name": "ipython",
    "version": 3
   },
   "file_extension": ".py",
   "mimetype": "text/x-python",
   "name": "python",
   "nbconvert_exporter": "python",
   "pygments_lexer": "ipython3",
   "version": "3.13.0"
  }
 },
 "nbformat": 4,
 "nbformat_minor": 2
}
