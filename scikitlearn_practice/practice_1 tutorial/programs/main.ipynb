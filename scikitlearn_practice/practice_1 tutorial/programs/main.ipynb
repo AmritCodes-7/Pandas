{
 "cells": [
  {
   "cell_type": "markdown",
   "metadata": {},
   "source": [
    "*Scikit-learn*"
   ]
  },
  {
   "cell_type": "code",
   "execution_count": 1,
   "metadata": {},
   "outputs": [],
   "source": [
    "from sklearn.datasets import load_iris"
   ]
  },
  {
   "cell_type": "markdown",
   "metadata": {},
   "source": [
    "*return_X_y=True Parameter: When you set return_X_y=True, the function returns two separate objects:\n",
    "X: A 2D array (or DataFrame) of shape (150, 4) containing the feature values (sepal length, sepal width, petal length, and petal width).\n",
    "y: A 1D array (or Series) of shape (150,) containing the target labels, which indicate the species of each iris flower (encoded as 0, 1, or 2).*"
   ]
  },
  {
   "cell_type": "code",
   "execution_count": null,
   "metadata": {},
   "outputs": [],
   "source": [
    "load_iris(return_X_y=True)"
   ]
  },
  {
   "cell_type": "code",
   "execution_count": 3,
   "metadata": {},
   "outputs": [],
   "source": [
    "X, y = load_iris(return_X_y=True)"
   ]
  },
  {
   "cell_type": "markdown",
   "metadata": {},
   "source": [
    "*First we create a model and feed the model*"
   ]
  },
  {
   "cell_type": "code",
   "execution_count": 4,
   "metadata": {},
   "outputs": [],
   "source": [
    "# linear regression model\n",
    "from sklearn.linear_model import LinearRegression"
   ]
  },
  {
   "cell_type": "code",
   "execution_count": null,
   "metadata": {},
   "outputs": [],
   "source": [
    "Model = LinearRegression()\n",
    "Model.fit(X, y)\n",
    "Model.predict(X)"
   ]
  },
  {
   "cell_type": "code",
   "execution_count": 6,
   "metadata": {},
   "outputs": [],
   "source": [
    "from sklearn.neighbors import KNeighborsRegressor\n",
    "mod = KNeighborsRegressor()"
   ]
  },
  {
   "cell_type": "code",
   "execution_count": null,
   "metadata": {},
   "outputs": [],
   "source": [
    "mod.fit(X, y)"
   ]
  },
  {
   "cell_type": "code",
   "execution_count": null,
   "metadata": {},
   "outputs": [],
   "source": [
    "mod.predict(X)"
   ]
  },
  {
   "cell_type": "markdown",
   "metadata": {},
   "source": [
    "*Visualization of data*"
   ]
  },
  {
   "cell_type": "code",
   "execution_count": null,
   "metadata": {},
   "outputs": [],
   "source": [
    "import matplotlib.pyplot as plt\n",
    "pred = mod.predict(X)\n",
    "plt.scatter(pred, y)\n",
    "plt.xlabel('Predicted value')\n",
    "plt.ylabel('y value')\n",
    "plt.show()"
   ]
  },
  {
   "cell_type": "code",
   "execution_count": 10,
   "metadata": {},
   "outputs": [],
   "source": [
    "import pandas as pd\n",
    "import seaborn as sns"
   ]
  },
  {
   "cell_type": "code",
   "execution_count": 11,
   "metadata": {},
   "outputs": [],
   "source": [
    "from sklearn.datasets import fetch_openml"
   ]
  },
  {
   "cell_type": "markdown",
   "metadata": {},
   "source": [
    "***df = fetch_openml(\"titanic\", version=1, as_frame=True)[\"data\"]***\n",
    "\n",
    "*As of January 18, 2025, OpenML.org is currently inaccessible due to a cyberattack on TU Eindhoven, the institution hosting the platform. The OpenML team has acknowledged the issue and is working to restore access as soon as the university's network is operational again.*"
   ]
  },
  {
   "cell_type": "code",
   "execution_count": 12,
   "metadata": {},
   "outputs": [],
   "source": [
    "df = pd.read_csv('../files/train.csv')"
   ]
  },
  {
   "cell_type": "code",
   "execution_count": null,
   "metadata": {},
   "outputs": [],
   "source": [
    "df.isnull().sum()"
   ]
  },
  {
   "cell_type": "code",
   "execution_count": null,
   "metadata": {},
   "outputs": [],
   "source": [
    "miss_val_per = pd.DataFrame((df.isnull().sum() / len(df)) * 100)\n",
    "miss_val_per"
   ]
  },
  {
   "cell_type": "code",
   "execution_count": null,
   "metadata": {},
   "outputs": [],
   "source": [
    "plt.title(\"Percentage of Missing Values\")\n",
    "\n",
    "plt.bar(\n",
    "    miss_val_per[0].index,\n",
    "    miss_val_per[0].values,\n",
    "    color=\"skyblue\",\n",
    ")\n",
    "\n",
    "plt.xticks(rotation=45, ha=\"center\")\n",
    "\n",
    "plt.ylabel('Percentage')\n",
    "plt.tight_layout()\n",
    "\n",
    "plt.show()"
   ]
  },
  {
   "cell_type": "markdown",
   "metadata": {},
   "source": [
    "*Value Imputation : the process of replacing missing or NaN (Not a Number) values in a dataset with substituted values.*"
   ]
  },
  {
   "cell_type": "code",
   "execution_count": 16,
   "metadata": {},
   "outputs": [],
   "source": [
    "from sklearn.impute import SimpleImputer"
   ]
  },
  {
   "cell_type": "code",
   "execution_count": null,
   "metadata": {},
   "outputs": [],
   "source": [
    "print(f\"Number of null values before imputing: {df['Age'].isnull().sum()}\")"
   ]
  },
  {
   "cell_type": "code",
   "execution_count": null,
   "metadata": {},
   "outputs": [],
   "source": [
    "imput = SimpleImputer(strategy=\"mean\")\n",
    "df[\"Age\"] = imput.fit_transform(df[[\"Age\"]]).flatten()\n",
    "print(f\"Number of null values after imputing: {df['Age'].isnull().sum()}\")"
   ]
  },
  {
   "cell_type": "markdown",
   "metadata": {},
   "source": [
    "*Imputing over whole dataset*"
   ]
  },
  {
   "cell_type": "code",
   "execution_count": null,
   "metadata": {},
   "outputs": [],
   "source": [
    "def getParameters(data):\n",
    "    # Initialize an empty dictionary to store the column parameters\n",
    "    parameters = {}\n",
    "\n",
    "    # Iterate through columns in the DataFrame where there are missing values\n",
    "    for col in data.columns[data.isnull().any()]:\n",
    "        \n",
    "        # Check the data type of the column and choose imputation strategy\n",
    "        if data[col].dtype in [\"float64\", \"int64\", \"int32\"]:\n",
    "            strategy = \"mean\"  # For numerical columns, use the mean for imputation\n",
    "        else:\n",
    "            strategy = \"most_frequent\"  # For categorical columns, use the most frequent value\n",
    "        \n",
    "        # Get the first missing value (if any) for the current column\n",
    "        missing_values = data[col][data[col].isnull()].values[0]\n",
    "        \n",
    "        # Store column parameters in the dictionary: missing value and imputation strategy\n",
    "        parameters[col] = {\n",
    "            \"missing_values\": missing_values,  # First missing value encountered\n",
    "            \"strategy\": strategy,  # Chosen imputation strategy\n",
    "        }\n",
    "\n",
    "    # Return the dictionary containing parameters for all columns with missing values\n",
    "    return parameters\n",
    "\n",
    "getParameters(df)"
   ]
  },
  {
   "cell_type": "code",
   "execution_count": 20,
   "metadata": {},
   "outputs": [],
   "source": [
    "parameters = getParameters(df)"
   ]
  },
  {
   "cell_type": "code",
   "execution_count": 27,
   "metadata": {},
   "outputs": [],
   "source": [
    "for col, para in parameters.items():\n",
    "    strategy = para[\"strategy\"]\n",
    "    # missing_values = para[\"missing_values\"]\n",
    "    # imp = SimpleImputer( missing_values=missing_values,strategy=strategy)\n",
    "    # we don't use above two lines because Default missing value handling is np.nan\n",
    "    \n",
    "    imp = SimpleImputer(strategy=strategy)\n",
    "    df[col] = imp.fit_transform(df[[col]]).flatten()"
   ]
  },
  {
   "cell_type": "code",
   "execution_count": null,
   "metadata": {},
   "outputs": [],
   "source": [
    "df.isnull().sum()"
   ]
  },
  {
   "cell_type": "code",
   "execution_count": null,
   "metadata": {},
   "outputs": [],
   "source": [
    "df.head()"
   ]
  },
  {
   "cell_type": "code",
   "execution_count": 42,
   "metadata": {},
   "outputs": [
    {
     "data": {
      "text/plain": [
       "<Axes: xlabel='Travel_alone'>"
      ]
     },
     "execution_count": 42,
     "metadata": {},
     "output_type": "execute_result"
    },
    {
     "data": {
      "image/png": "[encoded data removed]",
      "text/plain": [
       "<Figure size 640x480 with 1 Axes>"
      ]
     },
     "metadata": {},
     "output_type": "display_data"
    }
   ],
   "source": [
    "df[\"family\"] = (\n",
    "    df[\"SibSp\"] + df[\"Parch\"]\n",
    ")  # this column will have the number of family members of the passengers\n",
    "df.loc[df[\"family\"] == 0, \"Travel_alone\"] = 1\n",
    "df.loc[df[\"family\"] > 0, \"Travel_alone\"] = 0\n",
    "\n",
    "df['Travel_alone'].value_counts().plot(kind='bar')"
   ]
  }
 ],
 "metadata": {
  "kernelspec": {
   "display_name": "myenv",
   "language": "python",
   "name": "python3"
  },
  "language_info": {
   "codemirror_mode": {
    "name": "ipython",
    "version": 3
   },
   "file_extension": ".py",
   "mimetype": "text/x-python",
   "name": "python",
   "nbconvert_exporter": "python",
   "pygments_lexer": "ipython3",
   "version": "3.13.0"
  }
 },
 "nbformat": 4,
 "nbformat_minor": 2
}
